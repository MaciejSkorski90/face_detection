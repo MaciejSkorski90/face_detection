{
 "cells": [
  {
   "cell_type": "code",
   "execution_count": null,
   "metadata": {},
   "outputs": [],
   "source": [
    "import numpy as np\n",
    "import pandas as pd\n",
    "import cv2\n",
    "from os import listdir\n",
    "from os. path import isfile, join"
   ]
  },
  {
   "cell_type": "code",
   "execution_count": 2,
   "metadata": {},
   "outputs": [],
   "source": [
    "docpath = r'your_windows_path' #change path  your_windows_path \n",
    "\n",
    "docfiles = [f.upper() for f in listdir(docpath) if isfile(join(docpath, f))]\n",
    "#docfiles = [f.upper() for f in docfiles]\n",
    "doc = [f for f in docfiles if '.JPG' in f[-4:]]\n",
    "\n",
    "path = []\n",
    "file = []\n",
    "result_pic = []"
   ]
  },
  {
   "cell_type": "code",
   "execution_count": 3,
   "metadata": {},
   "outputs": [],
   "source": [
    "for i in doc:\n",
    "    \n",
    "    image = cv2.imread(rf'{docpath}\\{i}')\n",
    "    \n",
    "    r = 1200.0 / image. shape[1]\n",
    "    dim = (1200, int(image. shape[0] + r))\n",
    "    \n",
    "    image_resized = cv2.resize(image, dim, interpolation = cv2.INTER_AREA)\n",
    "    \n",
    "    # of the image\n",
    "    (h, w) = image_resized. shape[:2]\n",
    "    center = (w / 2, h / 2)\n",
    "    scale = 0.6\n",
    "    \n",
    "    # rotate the image by 360 degrees\n",
    "    M_1 = cv2.getRotationMatrix2D(center, 360, scale)\n",
    "    img_1 = cv2.warpAffine(image_resized, M_1, (w, h))\n",
    "    #rotate the image by 90 degrees\n",
    "    M_2 = cv2.getRotationMatrix2D(center, 90, scale)\n",
    "    img_2 = cv2.warpAffine(image_resized, M_2, (w, h))\n",
    "    # rotate the image by 180 degrees\n",
    "    M_3 = cv2.getRotationMatrix2D(center, 180, scale)\n",
    "    img_3 = cv2.warpAffine(image_resized, M_3, (w, h))\n",
    "    # rotate the image by 270 degrees\n",
    "    M_4 = cv2.getRotationMatrix2D(center, 270, scale)\n",
    "    img_4 = cv2.warpAffine(image_resized, M_4, (w, h))\n",
    "    \n",
    "    tolerance = 0\n",
    "    \n",
    "    # Create the haar cascade\n",
    "    faceCascade = cv2.CascadeClassifier(cv2.data.haarcascades + \"haarcascade_frontalface_default.xml\")\n",
    "    \n",
    "    def rotation_img(img):\n",
    "        \n",
    "    # Read the image\n",
    "        image = img\n",
    "        gray = cv2.cvtColor(image, cv2.COLOR_BGR2GRAY)\n",
    "        \n",
    "        # Detect faces in the image\n",
    "        faces = faceCascade.detectMultiScale(\n",
    "            gray,\n",
    "            scaleFactor=1.1,\n",
    "            minNeighbors=5,\n",
    "            minSize=(30, 30)\n",
    "        \n",
    "        )\n",
    "            \n",
    "            \n",
    "        l_id = len(faces)\n",
    "        return l_id\n",
    "    \n",
    "    \n",
    "    check_0 = int(rotation_img(img_1)) + int(rotation_img(img_2)) + int(rotation_img(img_3)) + int(rotation_img(img_4))\n",
    "    \n",
    "    if check_0 > 0:\n",
    "        check = 1\n",
    "    else:\n",
    "        check = 0\n",
    "        \n",
    "    #print(check)\n",
    "    \n",
    "    path.append((rf'{docpath}\\{i}'))\n",
    "    file.append(i)\n",
    "    result_pic.append(check)"
   ]
  },
  {
   "cell_type": "code",
   "execution_count": 4,
   "metadata": {},
   "outputs": [],
   "source": [
    "summary_list = list(zip(path, file, result_pic))"
   ]
  },
  {
   "cell_type": "code",
   "execution_count": 6,
   "metadata": {},
   "outputs": [],
   "source": [
    "summary_df = pd. DataFrame (summary_list, columns = ('sciezka', 'plik', 'wynik'))\n",
    "summary_df.to_excel(\"ID_check.xlsx\",\n",
    "sheet_name='ID_check_')"
   ]
  }
 ],
 "metadata": {
  "kernelspec": {
   "display_name": "Python 3",
   "language": "python",
   "name": "python3"
  },
  "language_info": {
   "codemirror_mode": {
    "name": "ipython",
    "version": 3
   },
   "file_extension": ".py",
   "mimetype": "text/x-python",
   "name": "python",
   "nbconvert_exporter": "python",
   "pygments_lexer": "ipython3",
   "version": "3.8.3"
  }
 },
 "nbformat": 4,
 "nbformat_minor": 4
}
